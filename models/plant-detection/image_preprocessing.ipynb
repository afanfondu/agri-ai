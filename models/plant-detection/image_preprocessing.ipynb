{
 "cells": [
  {
   "cell_type": "code",
   "execution_count": 2,
   "metadata": {},
   "outputs": [],
   "source": [
    "import PIL\n",
    "import rembg\n",
    "import cv2\n",
    "\n",
    "input = r\"C:\\Users\\rajdi\\Desktop\\IMP Projects\\Ayurvedic Medicinal Plant Identification\\118_1.jpg\"\n",
    "output = 'preprocessed_img.jpg'\n",
    "\n",
    "img = cv2.imread(input)\n",
    "img_out = rembg.remove(img)\n",
    "out_pil = PIL.Image.fromarray(img_out)\n",
    "bgr = PIL.Image.new('RGB', out_pil.size, (255, 255, 255))\n",
    "bgr.paste(out_pil, (0,0), out_pil)\n",
    "\n",
    "r, g, b = bgr.split()\n",
    "bgr = PIL.Image.merge('RGB', (b, g, r))\n",
    "bgr.save(''+output)"
   ]
  }
 ],
 "metadata": {
  "kernelspec": {
   "display_name": "myenv",
   "language": "python",
   "name": "python3"
  },
  "language_info": {
   "codemirror_mode": {
    "name": "ipython",
    "version": 3
   },
   "file_extension": ".py",
   "mimetype": "text/x-python",
   "name": "python",
   "nbconvert_exporter": "python",
   "pygments_lexer": "ipython3",
   "version": "3.12.5"
  }
 },
 "nbformat": 4,
 "nbformat_minor": 2
}
